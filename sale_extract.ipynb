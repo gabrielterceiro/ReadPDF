{
  "nbformat": 4,
  "nbformat_minor": 0,
  "metadata": {
    "colab": {
      "provenance": [],
      "collapsed_sections": [],
      "authorship_tag": "ABX9TyPGqk5qwXRFSh2CB78PDA9q",
      "include_colab_link": true
    },
    "kernelspec": {
      "name": "python3",
      "display_name": "Python 3"
    },
    "language_info": {
      "name": "python"
    }
  },
  "cells": [
    {
      "cell_type": "markdown",
      "metadata": {
        "id": "view-in-github",
        "colab_type": "text"
      },
      "source": [
        "<a href=\"https://colab.research.google.com/github/gabrielterceiro/ReadPDF/blob/main/sale_extract.ipynb\" target=\"_parent\"><img src=\"https://colab.research.google.com/assets/colab-badge.svg\" alt=\"Open In Colab\"/></a>"
      ]
    },
    {
      "cell_type": "code",
      "source": [
        "#install pdfplumber package to extract the text from pdf\n",
        "!pip install pdfplumber"
      ],
      "metadata": {
        "colab": {
          "base_uri": "https://localhost:8080/",
          "height": 557
        },
        "id": "PHq5MCfUOzbV",
        "outputId": "bbdefbff-6a4b-4902-9fda-86c97224a1e8"
      },
      "execution_count": 3,
      "outputs": [
        {
          "output_type": "stream",
          "name": "stdout",
          "text": [
            "Looking in indexes: https://pypi.org/simple, https://us-python.pkg.dev/colab-wheels/public/simple/\n",
            "Collecting pdfplumber\n",
            "  Downloading pdfplumber-0.7.5-py3-none-any.whl (40 kB)\n",
            "\u001b[K     |████████████████████████████████| 40 kB 6.5 MB/s \n",
            "\u001b[?25hCollecting pdfminer.six==20220524\n",
            "  Downloading pdfminer.six-20220524-py3-none-any.whl (5.6 MB)\n",
            "\u001b[K     |████████████████████████████████| 5.6 MB 61.7 MB/s \n",
            "\u001b[?25hCollecting Wand>=0.6.10\n",
            "  Downloading Wand-0.6.10-py2.py3-none-any.whl (142 kB)\n",
            "\u001b[K     |████████████████████████████████| 142 kB 66.2 MB/s \n",
            "\u001b[?25hCollecting Pillow>=9.1\n",
            "  Downloading Pillow-9.2.0-cp37-cp37m-manylinux_2_17_x86_64.manylinux2014_x86_64.whl (3.1 MB)\n",
            "\u001b[K     |████████████████████████████████| 3.1 MB 59.8 MB/s \n",
            "\u001b[?25hCollecting cryptography>=36.0.0\n",
            "  Downloading cryptography-38.0.1-cp36-abi3-manylinux_2_24_x86_64.whl (4.0 MB)\n",
            "\u001b[K     |████████████████████████████████| 4.0 MB 77.9 MB/s \n",
            "\u001b[?25hRequirement already satisfied: charset-normalizer>=2.0.0 in /usr/local/lib/python3.7/dist-packages (from pdfminer.six==20220524->pdfplumber) (2.1.1)\n",
            "Requirement already satisfied: cffi>=1.12 in /usr/local/lib/python3.7/dist-packages (from cryptography>=36.0.0->pdfminer.six==20220524->pdfplumber) (1.15.1)\n",
            "Requirement already satisfied: pycparser in /usr/local/lib/python3.7/dist-packages (from cffi>=1.12->cryptography>=36.0.0->pdfminer.six==20220524->pdfplumber) (2.21)\n",
            "Installing collected packages: cryptography, Wand, Pillow, pdfminer.six, pdfplumber\n",
            "  Attempting uninstall: Pillow\n",
            "    Found existing installation: Pillow 7.1.2\n",
            "    Uninstalling Pillow-7.1.2:\n",
            "      Successfully uninstalled Pillow-7.1.2\n",
            "Successfully installed Pillow-9.2.0 Wand-0.6.10 cryptography-38.0.1 pdfminer.six-20220524 pdfplumber-0.7.5\n"
          ]
        },
        {
          "output_type": "display_data",
          "data": {
            "application/vnd.colab-display-data+json": {
              "pip_warning": {
                "packages": [
                  "PIL"
                ]
              }
            }
          },
          "metadata": {}
        }
      ]
    },
    {
      "cell_type": "code",
      "source": [
        "#imports\n",
        "import pdfplumber\n",
        "import re\n",
        "from collections import namedtuple\n",
        "import pandas as pd\n",
        "import matplotlib.pyplot as plt"
      ],
      "metadata": {
        "id": "RTIqGFonOwqm"
      },
      "execution_count": 4,
      "outputs": []
    },
    {
      "cell_type": "code",
      "source": [
        "#create the named tuple pattern\n",
        "Sale = namedtuple('Sale', 'dt_sale cd_prod nm_prod qt_prod vl_prod')"
      ],
      "metadata": {
        "id": "_v6nzLWIO7qb"
      },
      "execution_count": 5,
      "outputs": []
    },
    {
      "cell_type": "code",
      "source": [
        "#using pdfplumber to open the semi structured pdf file and add the text from all pages to a variable\n",
        "with pdfplumber.open('/content/DadosAnalise.pdf') as pdf:\n",
        "    text = ''\n",
        "    for page in pdf.pages:\n",
        "        text += page.extract_text() "
      ],
      "metadata": {
        "id": "2587kkApPI5Q"
      },
      "execution_count": 6,
      "outputs": []
    },
    {
      "cell_type": "code",
      "source": [
        "#create regular expressions to find the sale dates and sale details\n",
        "new_dt_re = re.compile(r'^([D][at]{3}) (.*)') \n",
        "new_sale_re = re.compile(r'\\d+ [\\w\\s]+ (\\d+) (.*) ([\\d,]+\\d{2}) [0] ([\\d,]+\\d{2})')"
      ],
      "metadata": {
        "id": "BwsZylXPPLYS"
      },
      "execution_count": 7,
      "outputs": []
    },
    {
      "cell_type": "code",
      "source": [
        "#initialize an empty list to append later\n",
        "lst_sale = []\n",
        "\n",
        "#run through every line of the text\n",
        "for line in text.split('\\n'):\n",
        "    #if the line contains a date, stores the date in a variable\n",
        "    if new_dt_re.match(line):\n",
        "        dt_string, dt_sale = line.split()\n",
        "\n",
        "    #if the line contains a sale, stores the important information in their respective variables\n",
        "    line = new_sale_re.search(line)\n",
        "    if line:\n",
        "        cd_prod = line.group(1)\n",
        "        nm_prod = line.group(2)\n",
        "        qt_prod = line.group(3)\n",
        "        vl_prod = line.group(4)\n",
        "        #append into the list the named tuple with the sale data\n",
        "        lst_sale.append(Sale(dt_sale, cd_prod, nm_prod, qt_prod, vl_prod))"
      ],
      "metadata": {
        "id": "JT5bCTz3POrt"
      },
      "execution_count": 8,
      "outputs": []
    },
    {
      "cell_type": "code",
      "source": [
        "#stores the data into a dataframe\n",
        "df = pd.DataFrame(lst_sale)"
      ],
      "metadata": {
        "id": "LN4SHHm9PRnU"
      },
      "execution_count": 9,
      "outputs": []
    },
    {
      "cell_type": "code",
      "source": [
        "df.head(10)"
      ],
      "metadata": {
        "colab": {
          "base_uri": "https://localhost:8080/",
          "height": 363
        },
        "id": "EGBPWD4IPUJC",
        "outputId": "ef3d923d-028c-49fc-a9aa-b85e28862e78"
      },
      "execution_count": 10,
      "outputs": [
        {
          "output_type": "execute_result",
          "data": {
            "text/plain": [
              "      dt_sale cd_prod                nm_prod qt_prod vl_prod\n",
              "0  02/05/2022       2           PICOLE CREME    2,00    5,00\n",
              "1  02/05/2022      12       POTE ESPECIAL 2L    2,00   35,00\n",
              "2  02/05/2022      55    KID CASCAO C/ 10 UN    1,00    7,00\n",
              "3  02/05/2022       2           PICOLE CREME    2,00    5,00\n",
              "4  02/05/2022       6            PICOLE MAIS    4,00   12,00\n",
              "5  02/05/2022       9  POTE GRAN NEVADO 1,5L    1,00   15,00\n",
              "6  02/05/2022      12       POTE ESPECIAL 2L    1,00   17,50\n",
              "7  02/05/2022      12       POTE ESPECIAL 2L    1,00   17,50\n",
              "8  02/05/2022      55    KID CASCAO C/ 10 UN    1,00    7,00\n",
              "9  02/05/2022      18         BEST CUP 750ML    2,00   26,00"
            ],
            "text/html": [
              "\n",
              "  <div id=\"df-4d77f67e-4fd3-4c64-a2e0-452634563dee\">\n",
              "    <div class=\"colab-df-container\">\n",
              "      <div>\n",
              "<style scoped>\n",
              "    .dataframe tbody tr th:only-of-type {\n",
              "        vertical-align: middle;\n",
              "    }\n",
              "\n",
              "    .dataframe tbody tr th {\n",
              "        vertical-align: top;\n",
              "    }\n",
              "\n",
              "    .dataframe thead th {\n",
              "        text-align: right;\n",
              "    }\n",
              "</style>\n",
              "<table border=\"1\" class=\"dataframe\">\n",
              "  <thead>\n",
              "    <tr style=\"text-align: right;\">\n",
              "      <th></th>\n",
              "      <th>dt_sale</th>\n",
              "      <th>cd_prod</th>\n",
              "      <th>nm_prod</th>\n",
              "      <th>qt_prod</th>\n",
              "      <th>vl_prod</th>\n",
              "    </tr>\n",
              "  </thead>\n",
              "  <tbody>\n",
              "    <tr>\n",
              "      <th>0</th>\n",
              "      <td>02/05/2022</td>\n",
              "      <td>2</td>\n",
              "      <td>PICOLE CREME</td>\n",
              "      <td>2,00</td>\n",
              "      <td>5,00</td>\n",
              "    </tr>\n",
              "    <tr>\n",
              "      <th>1</th>\n",
              "      <td>02/05/2022</td>\n",
              "      <td>12</td>\n",
              "      <td>POTE ESPECIAL 2L</td>\n",
              "      <td>2,00</td>\n",
              "      <td>35,00</td>\n",
              "    </tr>\n",
              "    <tr>\n",
              "      <th>2</th>\n",
              "      <td>02/05/2022</td>\n",
              "      <td>55</td>\n",
              "      <td>KID CASCAO C/ 10 UN</td>\n",
              "      <td>1,00</td>\n",
              "      <td>7,00</td>\n",
              "    </tr>\n",
              "    <tr>\n",
              "      <th>3</th>\n",
              "      <td>02/05/2022</td>\n",
              "      <td>2</td>\n",
              "      <td>PICOLE CREME</td>\n",
              "      <td>2,00</td>\n",
              "      <td>5,00</td>\n",
              "    </tr>\n",
              "    <tr>\n",
              "      <th>4</th>\n",
              "      <td>02/05/2022</td>\n",
              "      <td>6</td>\n",
              "      <td>PICOLE MAIS</td>\n",
              "      <td>4,00</td>\n",
              "      <td>12,00</td>\n",
              "    </tr>\n",
              "    <tr>\n",
              "      <th>5</th>\n",
              "      <td>02/05/2022</td>\n",
              "      <td>9</td>\n",
              "      <td>POTE GRAN NEVADO 1,5L</td>\n",
              "      <td>1,00</td>\n",
              "      <td>15,00</td>\n",
              "    </tr>\n",
              "    <tr>\n",
              "      <th>6</th>\n",
              "      <td>02/05/2022</td>\n",
              "      <td>12</td>\n",
              "      <td>POTE ESPECIAL 2L</td>\n",
              "      <td>1,00</td>\n",
              "      <td>17,50</td>\n",
              "    </tr>\n",
              "    <tr>\n",
              "      <th>7</th>\n",
              "      <td>02/05/2022</td>\n",
              "      <td>12</td>\n",
              "      <td>POTE ESPECIAL 2L</td>\n",
              "      <td>1,00</td>\n",
              "      <td>17,50</td>\n",
              "    </tr>\n",
              "    <tr>\n",
              "      <th>8</th>\n",
              "      <td>02/05/2022</td>\n",
              "      <td>55</td>\n",
              "      <td>KID CASCAO C/ 10 UN</td>\n",
              "      <td>1,00</td>\n",
              "      <td>7,00</td>\n",
              "    </tr>\n",
              "    <tr>\n",
              "      <th>9</th>\n",
              "      <td>02/05/2022</td>\n",
              "      <td>18</td>\n",
              "      <td>BEST CUP 750ML</td>\n",
              "      <td>2,00</td>\n",
              "      <td>26,00</td>\n",
              "    </tr>\n",
              "  </tbody>\n",
              "</table>\n",
              "</div>\n",
              "      <button class=\"colab-df-convert\" onclick=\"convertToInteractive('df-4d77f67e-4fd3-4c64-a2e0-452634563dee')\"\n",
              "              title=\"Convert this dataframe to an interactive table.\"\n",
              "              style=\"display:none;\">\n",
              "        \n",
              "  <svg xmlns=\"http://www.w3.org/2000/svg\" height=\"24px\"viewBox=\"0 0 24 24\"\n",
              "       width=\"24px\">\n",
              "    <path d=\"M0 0h24v24H0V0z\" fill=\"none\"/>\n",
              "    <path d=\"M18.56 5.44l.94 2.06.94-2.06 2.06-.94-2.06-.94-.94-2.06-.94 2.06-2.06.94zm-11 1L8.5 8.5l.94-2.06 2.06-.94-2.06-.94L8.5 2.5l-.94 2.06-2.06.94zm10 10l.94 2.06.94-2.06 2.06-.94-2.06-.94-.94-2.06-.94 2.06-2.06.94z\"/><path d=\"M17.41 7.96l-1.37-1.37c-.4-.4-.92-.59-1.43-.59-.52 0-1.04.2-1.43.59L10.3 9.45l-7.72 7.72c-.78.78-.78 2.05 0 2.83L4 21.41c.39.39.9.59 1.41.59.51 0 1.02-.2 1.41-.59l7.78-7.78 2.81-2.81c.8-.78.8-2.07 0-2.86zM5.41 20L4 18.59l7.72-7.72 1.47 1.35L5.41 20z\"/>\n",
              "  </svg>\n",
              "      </button>\n",
              "      \n",
              "  <style>\n",
              "    .colab-df-container {\n",
              "      display:flex;\n",
              "      flex-wrap:wrap;\n",
              "      gap: 12px;\n",
              "    }\n",
              "\n",
              "    .colab-df-convert {\n",
              "      background-color: #E8F0FE;\n",
              "      border: none;\n",
              "      border-radius: 50%;\n",
              "      cursor: pointer;\n",
              "      display: none;\n",
              "      fill: #1967D2;\n",
              "      height: 32px;\n",
              "      padding: 0 0 0 0;\n",
              "      width: 32px;\n",
              "    }\n",
              "\n",
              "    .colab-df-convert:hover {\n",
              "      background-color: #E2EBFA;\n",
              "      box-shadow: 0px 1px 2px rgba(60, 64, 67, 0.3), 0px 1px 3px 1px rgba(60, 64, 67, 0.15);\n",
              "      fill: #174EA6;\n",
              "    }\n",
              "\n",
              "    [theme=dark] .colab-df-convert {\n",
              "      background-color: #3B4455;\n",
              "      fill: #D2E3FC;\n",
              "    }\n",
              "\n",
              "    [theme=dark] .colab-df-convert:hover {\n",
              "      background-color: #434B5C;\n",
              "      box-shadow: 0px 1px 3px 1px rgba(0, 0, 0, 0.15);\n",
              "      filter: drop-shadow(0px 1px 2px rgba(0, 0, 0, 0.3));\n",
              "      fill: #FFFFFF;\n",
              "    }\n",
              "  </style>\n",
              "\n",
              "      <script>\n",
              "        const buttonEl =\n",
              "          document.querySelector('#df-4d77f67e-4fd3-4c64-a2e0-452634563dee button.colab-df-convert');\n",
              "        buttonEl.style.display =\n",
              "          google.colab.kernel.accessAllowed ? 'block' : 'none';\n",
              "\n",
              "        async function convertToInteractive(key) {\n",
              "          const element = document.querySelector('#df-4d77f67e-4fd3-4c64-a2e0-452634563dee');\n",
              "          const dataTable =\n",
              "            await google.colab.kernel.invokeFunction('convertToInteractive',\n",
              "                                                     [key], {});\n",
              "          if (!dataTable) return;\n",
              "\n",
              "          const docLinkHtml = 'Like what you see? Visit the ' +\n",
              "            '<a target=\"_blank\" href=https://colab.research.google.com/notebooks/data_table.ipynb>data table notebook</a>'\n",
              "            + ' to learn more about interactive tables.';\n",
              "          element.innerHTML = '';\n",
              "          dataTable['output_type'] = 'display_data';\n",
              "          await google.colab.output.renderOutput(dataTable, element);\n",
              "          const docLink = document.createElement('div');\n",
              "          docLink.innerHTML = docLinkHtml;\n",
              "          element.appendChild(docLink);\n",
              "        }\n",
              "      </script>\n",
              "    </div>\n",
              "  </div>\n",
              "  "
            ]
          },
          "metadata": {},
          "execution_count": 10
        }
      ]
    },
    {
      "cell_type": "code",
      "source": [
        "item_count = df['nm_prod'].value_counts()"
      ],
      "metadata": {
        "id": "HHbyIX8NZ0c-"
      },
      "execution_count": 11,
      "outputs": []
    },
    {
      "cell_type": "code",
      "source": [
        "def getInt(input):\n",
        "  number = input[:-3]\n",
        "  return int(number)"
      ],
      "metadata": {
        "id": "tL3cQUhaiWnw"
      },
      "execution_count": 12,
      "outputs": []
    },
    {
      "cell_type": "code",
      "source": [
        "def getCents(input):\n",
        "  number = input.replace(',', '')\n",
        "  return int(number)"
      ],
      "metadata": {
        "id": "vxhVNglPN1n5"
      },
      "execution_count": 22,
      "outputs": []
    },
    {
      "cell_type": "code",
      "source": [
        "def getReais(input):\n",
        "  number = float(input)\n",
        "  return number"
      ],
      "metadata": {
        "id": "bjG2NTH7O7bl"
      },
      "execution_count": 33,
      "outputs": []
    },
    {
      "cell_type": "markdown",
      "source": [
        "#Listing the 10 most sold items by quantity"
      ],
      "metadata": {
        "id": "n8pOvZr7MaKk"
      }
    },
    {
      "cell_type": "code",
      "source": [
        "list_items = []\n",
        "list_amount = []\n",
        "i = 0\n",
        "for item in df['nm_prod']:\n",
        "  if item not in list_items:\n",
        "    list_items.append(item)\n",
        "    list_amount.append(getInt(df.iloc[i]['qt_prod']))\n",
        "  \n",
        "  if item in list_items:\n",
        "    list_amount[list_items.index(item)] += getInt(df.iloc[i]['qt_prod'])\n",
        "  i += 1"
      ],
      "metadata": {
        "id": "Bg23MotdZ-mb"
      },
      "execution_count": 18,
      "outputs": []
    },
    {
      "cell_type": "code",
      "source": [
        "n = len(list_items)\n",
        "\n",
        "for i in range(n):\n",
        "  already_sorted = True\n",
        "  for j in range(n - i - 1):\n",
        "    if list_amount[j] > list_amount[j+1]:\n",
        "      list_amount[j], list_amount[j + 1] = list_amount[j + 1], list_amount[j]\n",
        "      list_items[j], list_items[j + 1] = list_items[j + 1], list_items[j]\n",
        "      already_sorted = False\n",
        "  if already_sorted:\n",
        "            break\n",
        "print(list_items)\n",
        "print(list_amount)"
      ],
      "metadata": {
        "colab": {
          "base_uri": "https://localhost:8080/"
        },
        "id": "erXYP0fdu2xj",
        "outputId": "a56d7e9d-39f8-452a-e53a-25b482c75934"
      },
      "execution_count": 19,
      "outputs": [
        {
          "output_type": "stream",
          "name": "stdout",
          "text": [
            "['CX. PIC. NAPOLITANO C/ 4 UN', 'COBERTURA MARVI CHOCOLATE 300G', 'PICOLE MOCAFFE', 'POTE ZERO ADIC ACUCAR 1L', 'PICOLE KIDS', 'CX. PIC. DIAMOND C/ 4 UN', 'GELADINHO', 'CX. PIC. ZERO ADIC ACUCAR C/ 6UN', 'PICOLE SPECIALE', 'PICOLE NAPOLITANO', 'CX. PIC. MAIS C/ 6UN', 'GARRAFA AGUA 510ML', 'POTE GRAN NEVADO 1,5L', 'PICOLE DIAMOND', 'PICOLE MAIS', 'BEST CUP 750ML', 'CX. PIC. ITUZINHO C/ 4UN', 'PICOLE ZERO ADIC ACUCAR', 'KID CASCAO C/ 10 UN', 'CX. PIC. CREME C/ 6UN', 'CX. PIC. BOMBOM C/ 4 UN', 'PICOLE GREGO', 'CX. PIC. FRUTA C/ 6UN', 'PALITOS MEXICANOS', 'PICOLE BOMBOM', 'PICOLE FRUTA', 'PICOLE ITUZINHO', 'POTE ESPECIAL 2L', 'PICOLE CREME']\n",
            "[2, 3, 3, 3, 4, 4, 4, 4, 5, 6, 6, 7, 8, 9, 12, 12, 12, 13, 14, 14, 14, 15, 15, 19, 21, 23, 25, 52, 69]\n"
          ]
        }
      ]
    },
    {
      "cell_type": "code",
      "source": [
        "list_items, list_amount = list_items[-10:], list_amount[-10:]"
      ],
      "metadata": {
        "id": "mnYY3BBSv6m5"
      },
      "execution_count": 20,
      "outputs": []
    },
    {
      "cell_type": "code",
      "source": [
        "fig1, ax1 = plt.subplots()\n",
        "\n",
        "ax1.pie(list_amount, labels = list_items, autopct='%1.1f%%', startangle=90)\n",
        "ax1.axis('equal')\n",
        "\n",
        "plt.show()"
      ],
      "metadata": {
        "colab": {
          "base_uri": "https://localhost:8080/",
          "height": 257
        },
        "id": "Sclc4ZVQuF2J",
        "outputId": "c2678fc0-b922-4778-b0ae-5d3121a9904a"
      },
      "execution_count": null,
      "outputs": [
        {
          "output_type": "display_data",
          "data": {
            "text/plain": [
              "<Figure size 432x288 with 1 Axes>"
            ],
            "image/png": "[encoded data removed]"
          },
          "metadata": {}
        }
      ]
    },
    {
      "cell_type": "markdown",
      "source": [
        "#List the 10 most sold items by value"
      ],
      "metadata": {
        "id": "PFjtCxwuNiU5"
      }
    },
    {
      "cell_type": "code",
      "source": [
        "list_items = []\n",
        "list_values = []\n",
        "i = 0\n",
        "for item in df['nm_prod']:\n",
        "  if item not in list_items:\n",
        "    list_items.append(item)\n",
        "    list_values.append(getCents(df.iloc[i]['vl_prod']))\n",
        "  \n",
        "  if item in list_items:\n",
        "    list_values[list_items.index(item)] += getCents(df.iloc[i]['vl_prod'])\n",
        "  i += 1"
      ],
      "metadata": {
        "id": "3m9O5BNeNssy"
      },
      "execution_count": 42,
      "outputs": []
    },
    {
      "cell_type": "code",
      "source": [
        "n = len(list_items)\n",
        "\n",
        "for i in range(n):\n",
        "  already_sorted = True\n",
        "  for j in range(n - i - 1):\n",
        "    if list_values[j] > list_values[j+1]:\n",
        "      list_values[j], list_values[j + 1] = list_values[j + 1], list_values[j]\n",
        "      list_items[j], list_items[j + 1] = list_items[j + 1], list_items[j]\n",
        "      already_sorted = False\n",
        "  if already_sorted:\n",
        "            break\n",
        "print(list_items)\n",
        "print(list_values)"
      ],
      "metadata": {
        "colab": {
          "base_uri": "https://localhost:8080/"
        },
        "outputId": "bce88e0c-973a-4231-ed1f-25cdd5b9c1bd",
        "id": "xWA74SUlNssz"
      },
      "execution_count": 43,
      "outputs": [
        {
          "output_type": "stream",
          "name": "stdout",
          "text": [
            "['GELADINHO', 'GARRAFA AGUA 510ML', 'PICOLE SPECIALE', 'PICOLE MOCAFFE', 'PICOLE KIDS', 'PICOLE NAPOLITANO', 'CX. PIC. NAPOLITANO C/ 4 UN', 'COBERTURA MARVI CHOCOLATE 300G', 'PICOLE MAIS', 'PICOLE ZERO ADIC ACUCAR', 'PICOLE DIAMOND', 'PICOLE GREGO', 'PICOLE FRUTA', 'POTE ZERO ADIC ACUCAR 1L', 'PICOLE ITUZINHO', 'CX. PIC. ZERO ADIC ACUCAR C/ 6UN', 'CX. PIC. DIAMOND C/ 4 UN', 'PICOLE BOMBOM', 'CX. PIC. MAIS C/ 6UN', 'KID CASCAO C/ 10 UN', 'CX. PIC. ITUZINHO C/ 4UN', 'PALITOS MEXICANOS', 'POTE GRAN NEVADO 1,5L', 'BEST CUP 750ML', 'CX. PIC. FRUTA C/ 6UN', 'PICOLE CREME', 'CX. PIC. BOMBOM C/ 4 UN', 'CX. PIC. CREME C/ 6UN', 'POTE ESPECIAL 2L']\n",
            "[300, 1400, 1500, 1500, 1800, 1800, 2300, 3450, 3600, 3900, 4050, 4500, 4600, 4770, 6250, 6400, 6800, 7350, 9600, 9800, 10800, 11400, 12000, 15600, 15750, 17250, 18200, 19600, 91000]\n"
          ]
        }
      ]
    },
    {
      "cell_type": "code",
      "source": [
        "list_items, list_values = list_items[-10:], list_values[-10:]"
      ],
      "metadata": {
        "id": "Br3glcsxNss0"
      },
      "execution_count": 44,
      "outputs": []
    },
    {
      "cell_type": "code",
      "source": [
        "fig1, ax1 = plt.subplots()\n",
        "\n",
        "ax1.pie(list_values, labels = list_items, autopct='%1.1f%%', startangle=90)\n",
        "ax1.axis('equal')\n",
        "\n",
        "plt.show()"
      ],
      "metadata": {
        "colab": {
          "base_uri": "https://localhost:8080/",
          "height": 254
        },
        "outputId": "2452317e-c414-48dc-d32c-c984ceaf0d8a",
        "id": "x0S23epDNss1"
      },
      "execution_count": 45,
      "outputs": [
        {
          "output_type": "display_data",
          "data": {
            "text/plain": [
              "<Figure size 432x288 with 1 Axes>"
            ],
            "image/png": "[encoded data removed]"
          },
          "metadata": {}
        }
      ]
    }
  ]
}