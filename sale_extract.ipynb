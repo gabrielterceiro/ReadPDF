{
  "nbformat": 4,
  "nbformat_minor": 0,
  "metadata": {
    "colab": {
      "provenance": [],
      "collapsed_sections": [],
      "authorship_tag": "ABX9TyOgMlf47WGukRVikiV5VhpW",
      "include_colab_link": true
    },
    "kernelspec": {
      "name": "python3",
      "display_name": "Python 3"
    },
    "language_info": {
      "name": "python"
    }
  },
  "cells": [
    {
      "cell_type": "markdown",
      "metadata": {
        "id": "view-in-github",
        "colab_type": "text"
      },
      "source": [
        "<a href=\"https://colab.research.google.com/github/gabrielterceiro/ReadPDF/blob/main/sale_extract.ipynb\" target=\"_parent\"><img src=\"https://colab.research.google.com/assets/colab-badge.svg\" alt=\"Open In Colab\"/></a>"
      ]
    },
    {
      "cell_type": "code",
      "source": [
        "#install pdfplumber package to extract the text from pdf\n",
        "!pip install pdfplumber"
      ],
      "metadata": {
        "colab": {
          "base_uri": "https://localhost:8080/"
        },
        "id": "PHq5MCfUOzbV",
        "outputId": "9cefe6b1-5667-4751-943b-1710c3665daf"
      },
      "execution_count": 1,
      "outputs": [
        {
          "output_type": "stream",
          "name": "stdout",
          "text": [
            "Looking in indexes: https://pypi.org/simple, https://us-python.pkg.dev/colab-wheels/public/simple/\n",
            "Requirement already satisfied: pdfplumber in /usr/local/lib/python3.7/dist-packages (0.7.5)\n",
            "Requirement already satisfied: Wand>=0.6.10 in /usr/local/lib/python3.7/dist-packages (from pdfplumber) (0.6.10)\n",
            "Requirement already satisfied: pdfminer.six==20220524 in /usr/local/lib/python3.7/dist-packages (from pdfplumber) (20220524)\n",
            "Requirement already satisfied: Pillow>=9.1 in /usr/local/lib/python3.7/dist-packages (from pdfplumber) (9.2.0)\n",
            "Requirement already satisfied: charset-normalizer>=2.0.0 in /usr/local/lib/python3.7/dist-packages (from pdfminer.six==20220524->pdfplumber) (2.1.1)\n",
            "Requirement already satisfied: cryptography>=36.0.0 in /usr/local/lib/python3.7/dist-packages (from pdfminer.six==20220524->pdfplumber) (38.0.1)\n",
            "Requirement already satisfied: cffi>=1.12 in /usr/local/lib/python3.7/dist-packages (from cryptography>=36.0.0->pdfminer.six==20220524->pdfplumber) (1.15.1)\n",
            "Requirement already satisfied: pycparser in /usr/local/lib/python3.7/dist-packages (from cffi>=1.12->cryptography>=36.0.0->pdfminer.six==20220524->pdfplumber) (2.21)\n"
          ]
        }
      ]
    },
    {
      "cell_type": "code",
      "source": [
        "#imports\n",
        "import pdfplumber\n",
        "import re\n",
        "from collections import namedtuple\n",
        "import pandas as pd"
      ],
      "metadata": {
        "id": "RTIqGFonOwqm"
      },
      "execution_count": 2,
      "outputs": []
    },
    {
      "cell_type": "code",
      "source": [
        "#create the named tuple pattern\n",
        "Sale = namedtuple('Sale', 'dt_sale cd_prod nm_prod qt_prod vl_prod')"
      ],
      "metadata": {
        "id": "_v6nzLWIO7qb"
      },
      "execution_count": 3,
      "outputs": []
    },
    {
      "cell_type": "code",
      "source": [
        "#using pdfplumber to open the semi structured pdf file and add the text from all pages to a variable\n",
        "with pdfplumber.open('/content/DadosAnalise.pdf') as pdf:\n",
        "    text = ''\n",
        "    for page in pdf.pages:\n",
        "        text += page.extract_text() "
      ],
      "metadata": {
        "id": "2587kkApPI5Q"
      },
      "execution_count": 4,
      "outputs": []
    },
    {
      "cell_type": "code",
      "source": [
        "#create regular expressions to find the sale dates and sale details\n",
        "new_dt_re = re.compile(r'^([D][at]{3}) (.*)') \n",
        "new_sale_re = re.compile(r'\\d+ [\\w\\s]+ (\\d+) (.*) ([\\d,]+\\d{2}) [0] ([\\d,]+\\d{2})')"
      ],
      "metadata": {
        "id": "BwsZylXPPLYS"
      },
      "execution_count": 5,
      "outputs": []
    },
    {
      "cell_type": "code",
      "source": [
        "#initialize an empty list to append later\n",
        "lst_sale = []\n",
        "\n",
        "#run through every line of the text\n",
        "for line in text.split('\\n'):\n",
        "    #if the line contains a date, stores the date in a variable\n",
        "    if new_dt_re.match(line):\n",
        "        dt_string, dt_sale = line.split()\n",
        "\n",
        "    #if the line contains a sale, stores the important information in their respective variables\n",
        "    line = new_sale_re.search(line)\n",
        "    if line:\n",
        "        cd_prod = line.group(1)\n",
        "        nm_prod = line.group(2)\n",
        "        qt_prod = line.group(3)\n",
        "        vl_prod = line.group(4)\n",
        "        #append into the list the named tuple with the sale data\n",
        "        lst_sale.append(Sale(dt_sale, cd_prod, nm_prod, qt_prod, vl_prod))"
      ],
      "metadata": {
        "id": "JT5bCTz3POrt"
      },
      "execution_count": 6,
      "outputs": []
    },
    {
      "cell_type": "code",
      "source": [
        "#stores the data into a dataframe\n",
        "df = pd.DataFrame(lst_sale)"
      ],
      "metadata": {
        "id": "LN4SHHm9PRnU"
      },
      "execution_count": 7,
      "outputs": []
    },
    {
      "cell_type": "code",
      "source": [
        "df.head(10)"
      ],
      "metadata": {
        "colab": {
          "base_uri": "https://localhost:8080/",
          "height": 363
        },
        "id": "EGBPWD4IPUJC",
        "outputId": "c182d82b-108f-42aa-caa4-97969ec8c717"
      },
      "execution_count": 8,
      "outputs": [
        {
          "output_type": "execute_result",
          "data": {
            "text/plain": [
              "      dt_sale cd_prod                nm_prod qt_prod vl_prod\n",
              "0  02/05/2022       2           PICOLE CREME    2,00    5,00\n",
              "1  02/05/2022      12       POTE ESPECIAL 2L    2,00   35,00\n",
              "2  02/05/2022      55    KID CASCAO C/ 10 UN    1,00    7,00\n",
              "3  02/05/2022       2           PICOLE CREME    2,00    5,00\n",
              "4  02/05/2022       6            PICOLE MAIS    4,00   12,00\n",
              "5  02/05/2022       9  POTE GRAN NEVADO 1,5L    1,00   15,00\n",
              "6  02/05/2022      12       POTE ESPECIAL 2L    1,00   17,50\n",
              "7  02/05/2022      12       POTE ESPECIAL 2L    1,00   17,50\n",
              "8  02/05/2022      55    KID CASCAO C/ 10 UN    1,00    7,00\n",
              "9  02/05/2022      18         BEST CUP 750ML    2,00   26,00"
            ],
            "text/html": [
              "\n",
              "  <div id=\"df-02b5a211-6def-46b4-bf7a-6b94256b3d7e\">\n",
              "    <div class=\"colab-df-container\">\n",
              "      <div>\n",
              "<style scoped>\n",
              "    .dataframe tbody tr th:only-of-type {\n",
              "        vertical-align: middle;\n",
              "    }\n",
              "\n",
              "    .dataframe tbody tr th {\n",
              "        vertical-align: top;\n",
              "    }\n",
              "\n",
              "    .dataframe thead th {\n",
              "        text-align: right;\n",
              "    }\n",
              "</style>\n",
              "<table border=\"1\" class=\"dataframe\">\n",
              "  <thead>\n",
              "    <tr style=\"text-align: right;\">\n",
              "      <th></th>\n",
              "      <th>dt_sale</th>\n",
              "      <th>cd_prod</th>\n",
              "      <th>nm_prod</th>\n",
              "      <th>qt_prod</th>\n",
              "      <th>vl_prod</th>\n",
              "    </tr>\n",
              "  </thead>\n",
              "  <tbody>\n",
              "    <tr>\n",
              "      <th>0</th>\n",
              "      <td>02/05/2022</td>\n",
              "      <td>2</td>\n",
              "      <td>PICOLE CREME</td>\n",
              "      <td>2,00</td>\n",
              "      <td>5,00</td>\n",
              "    </tr>\n",
              "    <tr>\n",
              "      <th>1</th>\n",
              "      <td>02/05/2022</td>\n",
              "      <td>12</td>\n",
              "      <td>POTE ESPECIAL 2L</td>\n",
              "      <td>2,00</td>\n",
              "      <td>35,00</td>\n",
              "    </tr>\n",
              "    <tr>\n",
              "      <th>2</th>\n",
              "      <td>02/05/2022</td>\n",
              "      <td>55</td>\n",
              "      <td>KID CASCAO C/ 10 UN</td>\n",
              "      <td>1,00</td>\n",
              "      <td>7,00</td>\n",
              "    </tr>\n",
              "    <tr>\n",
              "      <th>3</th>\n",
              "      <td>02/05/2022</td>\n",
              "      <td>2</td>\n",
              "      <td>PICOLE CREME</td>\n",
              "      <td>2,00</td>\n",
              "      <td>5,00</td>\n",
              "    </tr>\n",
              "    <tr>\n",
              "      <th>4</th>\n",
              "      <td>02/05/2022</td>\n",
              "      <td>6</td>\n",
              "      <td>PICOLE MAIS</td>\n",
              "      <td>4,00</td>\n",
              "      <td>12,00</td>\n",
              "    </tr>\n",
              "    <tr>\n",
              "      <th>5</th>\n",
              "      <td>02/05/2022</td>\n",
              "      <td>9</td>\n",
              "      <td>POTE GRAN NEVADO 1,5L</td>\n",
              "      <td>1,00</td>\n",
              "      <td>15,00</td>\n",
              "    </tr>\n",
              "    <tr>\n",
              "      <th>6</th>\n",
              "      <td>02/05/2022</td>\n",
              "      <td>12</td>\n",
              "      <td>POTE ESPECIAL 2L</td>\n",
              "      <td>1,00</td>\n",
              "      <td>17,50</td>\n",
              "    </tr>\n",
              "    <tr>\n",
              "      <th>7</th>\n",
              "      <td>02/05/2022</td>\n",
              "      <td>12</td>\n",
              "      <td>POTE ESPECIAL 2L</td>\n",
              "      <td>1,00</td>\n",
              "      <td>17,50</td>\n",
              "    </tr>\n",
              "    <tr>\n",
              "      <th>8</th>\n",
              "      <td>02/05/2022</td>\n",
              "      <td>55</td>\n",
              "      <td>KID CASCAO C/ 10 UN</td>\n",
              "      <td>1,00</td>\n",
              "      <td>7,00</td>\n",
              "    </tr>\n",
              "    <tr>\n",
              "      <th>9</th>\n",
              "      <td>02/05/2022</td>\n",
              "      <td>18</td>\n",
              "      <td>BEST CUP 750ML</td>\n",
              "      <td>2,00</td>\n",
              "      <td>26,00</td>\n",
              "    </tr>\n",
              "  </tbody>\n",
              "</table>\n",
              "</div>\n",
              "      <button class=\"colab-df-convert\" onclick=\"convertToInteractive('df-02b5a211-6def-46b4-bf7a-6b94256b3d7e')\"\n",
              "              title=\"Convert this dataframe to an interactive table.\"\n",
              "              style=\"display:none;\">\n",
              "        \n",
              "  <svg xmlns=\"http://www.w3.org/2000/svg\" height=\"24px\"viewBox=\"0 0 24 24\"\n",
              "       width=\"24px\">\n",
              "    <path d=\"M0 0h24v24H0V0z\" fill=\"none\"/>\n",
              "    <path d=\"M18.56 5.44l.94 2.06.94-2.06 2.06-.94-2.06-.94-.94-2.06-.94 2.06-2.06.94zm-11 1L8.5 8.5l.94-2.06 2.06-.94-2.06-.94L8.5 2.5l-.94 2.06-2.06.94zm10 10l.94 2.06.94-2.06 2.06-.94-2.06-.94-.94-2.06-.94 2.06-2.06.94z\"/><path d=\"M17.41 7.96l-1.37-1.37c-.4-.4-.92-.59-1.43-.59-.52 0-1.04.2-1.43.59L10.3 9.45l-7.72 7.72c-.78.78-.78 2.05 0 2.83L4 21.41c.39.39.9.59 1.41.59.51 0 1.02-.2 1.41-.59l7.78-7.78 2.81-2.81c.8-.78.8-2.07 0-2.86zM5.41 20L4 18.59l7.72-7.72 1.47 1.35L5.41 20z\"/>\n",
              "  </svg>\n",
              "      </button>\n",
              "      \n",
              "  <style>\n",
              "    .colab-df-container {\n",
              "      display:flex;\n",
              "      flex-wrap:wrap;\n",
              "      gap: 12px;\n",
              "    }\n",
              "\n",
              "    .colab-df-convert {\n",
              "      background-color: #E8F0FE;\n",
              "      border: none;\n",
              "      border-radius: 50%;\n",
              "      cursor: pointer;\n",
              "      display: none;\n",
              "      fill: #1967D2;\n",
              "      height: 32px;\n",
              "      padding: 0 0 0 0;\n",
              "      width: 32px;\n",
              "    }\n",
              "\n",
              "    .colab-df-convert:hover {\n",
              "      background-color: #E2EBFA;\n",
              "      box-shadow: 0px 1px 2px rgba(60, 64, 67, 0.3), 0px 1px 3px 1px rgba(60, 64, 67, 0.15);\n",
              "      fill: #174EA6;\n",
              "    }\n",
              "\n",
              "    [theme=dark] .colab-df-convert {\n",
              "      background-color: #3B4455;\n",
              "      fill: #D2E3FC;\n",
              "    }\n",
              "\n",
              "    [theme=dark] .colab-df-convert:hover {\n",
              "      background-color: #434B5C;\n",
              "      box-shadow: 0px 1px 3px 1px rgba(0, 0, 0, 0.15);\n",
              "      filter: drop-shadow(0px 1px 2px rgba(0, 0, 0, 0.3));\n",
              "      fill: #FFFFFF;\n",
              "    }\n",
              "  </style>\n",
              "\n",
              "      <script>\n",
              "        const buttonEl =\n",
              "          document.querySelector('#df-02b5a211-6def-46b4-bf7a-6b94256b3d7e button.colab-df-convert');\n",
              "        buttonEl.style.display =\n",
              "          google.colab.kernel.accessAllowed ? 'block' : 'none';\n",
              "\n",
              "        async function convertToInteractive(key) {\n",
              "          const element = document.querySelector('#df-02b5a211-6def-46b4-bf7a-6b94256b3d7e');\n",
              "          const dataTable =\n",
              "            await google.colab.kernel.invokeFunction('convertToInteractive',\n",
              "                                                     [key], {});\n",
              "          if (!dataTable) return;\n",
              "\n",
              "          const docLinkHtml = 'Like what you see? Visit the ' +\n",
              "            '<a target=\"_blank\" href=https://colab.research.google.com/notebooks/data_table.ipynb>data table notebook</a>'\n",
              "            + ' to learn more about interactive tables.';\n",
              "          element.innerHTML = '';\n",
              "          dataTable['output_type'] = 'display_data';\n",
              "          await google.colab.output.renderOutput(dataTable, element);\n",
              "          const docLink = document.createElement('div');\n",
              "          docLink.innerHTML = docLinkHtml;\n",
              "          element.appendChild(docLink);\n",
              "        }\n",
              "      </script>\n",
              "    </div>\n",
              "  </div>\n",
              "  "
            ]
          },
          "metadata": {},
          "execution_count": 8
        }
      ]
    }
  ]
}